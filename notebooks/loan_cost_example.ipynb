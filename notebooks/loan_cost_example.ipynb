{
 "cells": [
  {
   "cell_type": "markdown",
   "source": [
    "## Loan Costing Example\n",
    "This example uses the cost formulae from the temoa_rules.py file in order to verify costs used for loan.  The Temoa dox for the loan cost explain the original formula fairly well\n"
   ],
   "metadata": {
    "collapsed": false
   },
   "id": "54ecbe852dc90f38"
  },
  {
   "cell_type": "markdown",
   "source": [
    "The use of this notebook requires a recent copy of the `temoa_rules.py` file which separates the formula out of the period cost rule"
   ],
   "metadata": {
    "collapsed": false
   },
   "id": "aecf5f276c2d55a4"
  },
  {
   "cell_type": "code",
   "outputs": [],
   "source": [
    "from temoa.temoa_model.temoa_rules import loan_annualization_rate, loan_cost"
   ],
   "metadata": {
    "collapsed": false,
    "ExecuteTime": {
     "end_time": "2024-02-27T17:18:32.991570Z",
     "start_time": "2024-02-27T17:18:32.989653Z"
    }
   },
   "id": "3f48357ba929ad93",
   "execution_count": 18
  },
  {
   "cell_type": "markdown",
   "source": [
    "### Exemplar tech data\n",
    "Consider an anonymous `tech` in a myopic run with periods @ 5 year increments [2020, 2050] and a myopic view of 1 period at a time.\n",
    "In the myopic window 2030 -> 2035 a decision is made to build 100K capacity units:\n"
   ],
   "metadata": {
    "collapsed": false
   },
   "id": "bf57ce2583a5b515"
  },
  {
   "cell_type": "code",
   "outputs": [],
   "source": [
    "capacity = 100_000 # units\n",
    "cost_invest = 1    # $/unit of capacity\n",
    "loan_life = 40\n",
    "loan_rate = 0.08\n",
    "GDR = 0.05\n",
    "tech_lifetime = 50\n",
    "base_year = 2020   # the \"myopic base year\" to which all prices are discounted\n",
    "vintage = 2030     # the vintage of the new 'tech'\n",
    "window_end = 2035  # last year in the myopic view"
   ],
   "metadata": {
    "collapsed": false,
    "ExecuteTime": {
     "end_time": "2024-02-27T17:18:32.995384Z",
     "start_time": "2024-02-27T17:18:32.993541Z"
    }
   },
   "id": "ce1bcf1453d44d6",
   "execution_count": 19
  },
  {
   "cell_type": "markdown",
   "source": [
    "#### We need LoanAnnualize...\n",
    "LoanAnnualize is a model parameter that is computed within the model using the discount rate specific to that process.  I have also \"extracted the math\" to a separate function that can is also dual-use (making the parameter, or externally producing a hard number)\n"
   ],
   "metadata": {
    "collapsed": false
   },
   "id": "58218ee0e550b94a"
  },
  {
   "cell_type": "code",
   "outputs": [],
   "source": [
    "loan_annualize = loan_annualization_rate(discount_rate=loan_rate, loan_life=loan_life)"
   ],
   "metadata": {
    "collapsed": false,
    "ExecuteTime": {
     "end_time": "2024-02-27T17:18:33.006754Z",
     "start_time": "2024-02-27T17:18:33.004994Z"
    }
   },
   "id": "a790bdc43d4fb128",
   "execution_count": 20
  },
  {
   "cell_type": "code",
   "outputs": [
    {
     "name": "stdout",
     "output_type": "stream",
     "text": [
      "Loan annualization rate: 0.0839\n"
     ]
    }
   ],
   "source": [
    "print(f\"Loan annualization rate: {loan_annualize:0.4f}\")"
   ],
   "metadata": {
    "collapsed": false,
    "ExecuteTime": {
     "end_time": "2024-02-27T17:18:33.009278Z",
     "start_time": "2024-02-27T17:18:33.007758Z"
    }
   },
   "id": "ee945bc2df5c8f70",
   "execution_count": 21
  },
  {
   "cell_type": "code",
   "outputs": [],
   "source": [
    "cost = loan_cost(\n",
    "    capacity=capacity,\n",
    "    invest_cost=cost_invest,\n",
    "    loan_annualize=loan_annualize,\n",
    "    lifetime_loan_process=loan_life,\n",
    "    lifetime_process=tech_lifetime,\n",
    "    P_0=base_year,\n",
    "    P_e=window_end,\n",
    "    GDR=GDR,\n",
    "    vintage=vintage\n",
    ")"
   ],
   "metadata": {
    "collapsed": false,
    "ExecuteTime": {
     "end_time": "2024-02-27T17:18:33.011357Z",
     "start_time": "2024-02-27T17:18:33.009729Z"
    }
   },
   "id": "675f7cf04200c8f8",
   "execution_count": 22
  },
  {
   "cell_type": "code",
   "outputs": [
    {
     "name": "stdout",
     "output_type": "stream",
     "text": [
      "Loan cost: $21,997.72\n"
     ]
    }
   ],
   "source": [
    "print(f\"Loan cost: ${cost:,.2f}\")"
   ],
   "metadata": {
    "collapsed": false,
    "ExecuteTime": {
     "end_time": "2024-02-27T17:18:33.015107Z",
     "start_time": "2024-02-27T17:18:33.012587Z"
    }
   },
   "id": "3d6354622519237e",
   "execution_count": 23
  },
  {
   "cell_type": "markdown",
   "source": [
    "### Is this correct or a problem?\n",
    "The end of the window is eclipsing most future payments.\n",
    "If the problem were \"perfect foresight\" then..."
   ],
   "metadata": {
    "collapsed": false
   },
   "id": "969780f884c44684"
  },
  {
   "cell_type": "code",
   "outputs": [
    {
     "name": "stdout",
     "output_type": "stream",
     "text": [
      "Loan cost: $63,319.49\n"
     ]
    }
   ],
   "source": [
    "window_end = 2050\n",
    "\n",
    "cost = loan_cost(\n",
    "    capacity=capacity,\n",
    "    invest_cost=cost_invest,\n",
    "    loan_annualize=loan_annualize,\n",
    "    lifetime_loan_process=loan_life,\n",
    "    lifetime_process=tech_lifetime,\n",
    "    P_0=base_year,\n",
    "    P_e=window_end,\n",
    "    GDR=GDR,\n",
    "    vintage=vintage\n",
    ")\n",
    "print(f\"Loan cost: ${cost:,.2f}\")"
   ],
   "metadata": {
    "collapsed": false,
    "ExecuteTime": {
     "end_time": "2024-02-27T17:18:33.017941Z",
     "start_time": "2024-02-27T17:18:33.016098Z"
    }
   },
   "id": "63eaa2ed2074c123",
   "execution_count": 24
  },
  {
   "cell_type": "markdown",
   "source": [
    "### Or longer than the loan life...\n"
   ],
   "metadata": {
    "collapsed": false
   },
   "id": "b1ebba20323f39c4"
  },
  {
   "cell_type": "code",
   "outputs": [
    {
     "name": "stdout",
     "output_type": "stream",
     "text": [
      "Loan cost: $92,756.89\n"
     ]
    }
   ],
   "source": [
    "window_end = 2100\n",
    "\n",
    "cost = loan_cost(\n",
    "    capacity=capacity,\n",
    "    invest_cost=cost_invest,\n",
    "    loan_annualize=loan_annualize,\n",
    "    lifetime_loan_process=loan_life,\n",
    "    lifetime_process=tech_lifetime,\n",
    "    P_0=base_year,\n",
    "    P_e=window_end,\n",
    "    GDR=GDR,\n",
    "    vintage=vintage\n",
    ")\n",
    "print(f\"Loan cost: ${cost:,.2f}\")"
   ],
   "metadata": {
    "collapsed": false,
    "ExecuteTime": {
     "end_time": "2024-02-27T17:18:33.020213Z",
     "start_time": "2024-02-27T17:18:33.018392Z"
    }
   },
   "id": "1cee546365df4909",
   "execution_count": 25
  }
 ],
 "metadata": {
  "kernelspec": {
   "display_name": "Python 3",
   "language": "python",
   "name": "python3"
  },
  "language_info": {
   "codemirror_mode": {
    "name": "ipython",
    "version": 2
   },
   "file_extension": ".py",
   "mimetype": "text/x-python",
   "name": "python",
   "nbconvert_exporter": "python",
   "pygments_lexer": "ipython2",
   "version": "2.7.6"
  }
 },
 "nbformat": 4,
 "nbformat_minor": 5
}
